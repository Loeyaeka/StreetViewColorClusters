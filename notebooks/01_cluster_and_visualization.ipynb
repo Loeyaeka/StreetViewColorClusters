{
 "cells": [
  {
   "cell_type": "markdown",
   "id": "345acc34",
   "metadata": {},
   "source": [
    "# 📊 图像色彩分析报告模块（可视化 + 经纬度 + 聚类 + Excel 导出）"
   ]
  },
  {
   "cell_type": "markdown",
   "id": "9cb020b0",
   "metadata": {},
   "source": [
    "## 🗺️ 经纬度提取（从文件名中提取经纬度）"
   ]
  },
  {
   "cell_type": "code",
   "execution_count": null,
   "id": "c5b1f8a2",
   "metadata": {},
   "outputs": [],
   "source": [
    "import pandas as pd\n",
    "import re\n",
    "\n",
    "df = pd.read_csv(\"F:/SCI essays/Shenzhen Street View/Color Results/color_analysis_all.csv\")\n",
    "\n",
    "def extract_coordinates(filename):\n",
    "    match = re.search(r\"(\\d+)[_,](\\d+\\.\\d+),(\\d+\\.\\d+)\", filename)\n",
    "    if match:\n",
    "        return float(match.group(2)), float(match.group(3))\n",
    "    return None, None\n",
    "\n",
    "df['longitude'], df['latitude'] = zip(*df['image'].map(extract_coordinates))\n",
    "df.dropna(inplace=True)\n",
    "df.head()\n"
   ]
  },
  {
   "cell_type": "markdown",
   "id": "42b41234",
   "metadata": {},
   "source": [
    "## 📊 色彩指标分布图"
   ]
  },
  {
   "cell_type": "code",
   "execution_count": null,
   "id": "87ab3a59",
   "metadata": {},
   "outputs": [],
   "source": [
    "import matplotlib.pyplot as plt\n",
    "\n",
    "plt.figure(figsize=(12, 4))\n",
    "for i, col in enumerate([\"color_complexity\", \"color_entropy\", \"color_harmony\"]):\n",
    "    plt.subplot(1, 3, i+1)\n",
    "    df[col].hist(bins=30)\n",
    "    plt.title(col)\n",
    "plt.tight_layout()\n",
    "plt.show()\n"
   ]
  },
  {
   "cell_type": "markdown",
   "id": "e8bb0658",
   "metadata": {},
   "source": [
    "## 🌍 色彩熵地理分布图"
   ]
  },
  {
   "cell_type": "code",
   "execution_count": null,
   "id": "7707c78e",
   "metadata": {},
   "outputs": [],
   "source": [
    "plt.figure(figsize=(10, 6))\n",
    "sc = plt.scatter(df['longitude'], df['latitude'], c=df['color_entropy'], cmap='viridis', s=10)\n",
    "plt.colorbar(sc, label=\"Color Entropy\")\n",
    "plt.xlabel(\"Longitude\")\n",
    "plt.ylabel(\"Latitude\")\n",
    "plt.title(\"Color Entropy Geographic Distribution\")\n",
    "plt.show()\n"
   ]
  },
  {
   "cell_type": "markdown",
   "id": "151039c1",
   "metadata": {},
   "source": [
    "## 📈 KMeans 聚类分析"
   ]
  },
  {
   "cell_type": "code",
   "execution_count": null,
   "id": "1cf3c3fe",
   "metadata": {},
   "outputs": [],
   "source": [
    "from sklearn.preprocessing import StandardScaler\n",
    "from sklearn.cluster import KMeans\n",
    "\n",
    "features = df[['color_complexity', 'color_entropy', 'color_harmony']]\n",
    "scaled = StandardScaler().fit_transform(features)\n",
    "kmeans = KMeans(n_clusters=4, random_state=0).fit(scaled)\n",
    "df['cluster'] = kmeans.labels_\n",
    "\n",
    "plt.figure(figsize=(8, 6))\n",
    "plt.scatter(df['color_entropy'], df['color_complexity'], c=df['cluster'], cmap='tab10')\n",
    "plt.xlabel(\"Color Entropy\")\n",
    "plt.ylabel(\"Color Complexity\")\n",
    "plt.title(\"Color Feature Clustering\")\n",
    "plt.show()\n"
   ]
  },
  {
   "cell_type": "markdown",
   "id": "3ea58235",
   "metadata": {},
   "source": [
    "## 📤 报告导出为 Excel"
   ]
  },
  {
   "cell_type": "code",
   "execution_count": null,
   "id": "f82005c4",
   "metadata": {},
   "outputs": [],
   "source": [
    "df.to_excel(\"F:/SCI essays/Shenzhen Street View/Color Results/color_analysis_report.xlsx\", index=False)\n",
    "print(\"导出成功：color_analysis_report.xlsx\")\n"
   ]
  }
 ],
 "metadata": {},
 "nbformat": 4,
 "nbformat_minor": 5
}
